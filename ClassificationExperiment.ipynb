{
 "cells": [
  {
   "cell_type": "code",
   "execution_count": 22,
   "metadata": {},
   "outputs": [],
   "source": [
    "import sklearn\n",
    "import numpy as np\n",
    "import matplotlib.pyplot as plt\n",
    "from sklearn.datasets import load_svmlight_file\n",
    "from sklearn.model_selection import train_test_split\n",
    "from scipy.linalg.misc import norm\n",
    "from numpy import *\n",
    "\n",
    "learning_rate=0.005\n",
    "time=400\n",
    "C=5\n",
    "\n",
    "def get_data():\n",
    "    data = load_svmlight_file(\"australian_scale.txt\")\n",
    "    return data[0], data[1]\n",
    "\n",
    "X,y=get_data()\n",
    "loss_trainhistory=[]\n",
    "loss_testhistory=[]\n",
    "\n",
    "X=np.hstack([X.toarray(), np.ones((X.shape[0], 1))])\n",
    "X_train, X_test, y_train, y_test = train_test_split(X, y, test_size=0.2)\n",
    "y_train=y_train.reshape(-1,1)\n",
    "\n",
    "w=np.random.random((1,15))"
   ]
  },
  {
   "cell_type": "code",
   "execution_count": 23,
   "metadata": {},
   "outputs": [],
   "source": [
    "for k in range(time):\n",
    "    trainloss=0.5*(np.linalg.norm(w,2)**2)+C*np.mean(np.maximum(1-y_train*X_train.dot(w.T),0))\n",
    "    testloss=0.5*(np.linalg.norm(w,2)**2)+C*np.mean(np.maximum(1-y_test*X_test.dot(w.T),0))\n",
    "    loss_trainhistory.append(trainloss)\n",
    "    loss_testhistory.append(testloss)\n",
    "    a1=1-y_train*X_train.dot(w.T)\n",
    "    dw=np.zeros((1,X_train.shape[1]))\n",
    "    for i in range(a1.shape[0]):\n",
    "        if a1[i]>=0:\n",
    "            dw+=-y_train[i]*X_train[i].reshape((1,15))\n",
    "        \n",
    "    dw=C*dw/X_train.shape[0]+w\n",
    "    w=w-learning_rate*dw"
   ]
  },
  {
   "cell_type": "code",
   "execution_count": 24,
   "metadata": {},
   "outputs": [
    {
     "data": {
      "image/png": "[encoded data removed]",
      "text/plain": [
       "<matplotlib.figure.Figure at 0x14fa92ddf28>"
      ]
     },
     "metadata": {},
     "output_type": "display_data"
    }
   ],
   "source": [
    "plt.plot(loss_trainhistory,'black',label='Train')\n",
    "plt.plot(loss_testhistory,'blue',label='Test')\n",
    "plt.xlabel('Iteration times')\n",
    "plt.ylabel('Loss value')\n",
    "plt.legend()\n",
    "plt.show()"
   ]
  },
  {
   "cell_type": "code",
   "execution_count": 25,
   "metadata": {
    "scrolled": true
   },
   "outputs": [
    {
     "data": {
      "text/plain": [
       "0.855072463768116"
      ]
     },
     "execution_count": 25,
     "metadata": {},
     "output_type": "execute_result"
    }
   ],
   "source": [
    "t = X_test.dot(w.T) > 0\n",
    "count = 0\n",
    "for i in range(X_test.shape[0]):\n",
    "    if t[i][0] == False and y_test[i]== -1:\n",
    "        count = count + 1\n",
    "    elif t[i][0] == True and y_test[i]== 1:\n",
    "        count = count + 1\n",
    "\n",
    "count / y_test.shape[0]"
   ]
  },
  {
   "cell_type": "code",
   "execution_count": 26,
   "metadata": {},
   "outputs": [
    {
     "data": {
      "text/plain": [
       "0.855072463768116"
      ]
     },
     "execution_count": 26,
     "metadata": {},
     "output_type": "execute_result"
    }
   ],
   "source": [
    "t = X_train.dot(w.T) > 0\n",
    "count = 0\n",
    "for i in range(X_train.shape[0]):\n",
    "    if t[i][0] == False and y_train[i]== -1:\n",
    "        count = count + 1\n",
    "    elif t[i][0] == True and y_train[i]== 1:\n",
    "        count = count + 1\n",
    "\n",
    "count / X_train.shape[0]"
   ]
  },
  {
   "cell_type": "code",
   "execution_count": null,
   "metadata": {},
   "outputs": [],
   "source": []
  },
  {
   "cell_type": "code",
   "execution_count": null,
   "metadata": {},
   "outputs": [],
   "source": []
  }
 ],
 "metadata": {
  "kernelspec": {
   "display_name": "Python 3",
   "language": "python",
   "name": "python3"
  },
  "language_info": {
   "codemirror_mode": {
    "name": "ipython",
    "version": 3
   },
   "file_extension": ".py",
   "mimetype": "text/x-python",
   "name": "python",
   "nbconvert_exporter": "python",
   "pygments_lexer": "ipython3",
   "version": "3.6.2"
  }
 },
 "nbformat": 4,
 "nbformat_minor": 2
}
