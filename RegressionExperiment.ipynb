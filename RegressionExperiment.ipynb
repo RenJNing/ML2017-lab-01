{
 "cells": [
  {
   "cell_type": "code",
   "execution_count": 95,
   "metadata": {},
   "outputs": [],
   "source": [
    "import sklearn\n",
    "import numpy as np\n",
    "import matplotlib.pyplot as plt\n",
    "from sklearn.datasets import load_svmlight_file\n",
    "from sklearn.model_selection import train_test_split\n",
    "\n",
    "iteration=600\n",
    "\n",
    "# Load the experiment data.\n",
    "def get_data():\n",
    "    data = load_svmlight_file(\"housing_scale.txt\")\n",
    "    return data[0], data[1]\n",
    "\n",
    "X,y=get_data()\n",
    "loss_mintrainhistory = []\n",
    "loss_mintesthistory=[]"
   ]
  },
  {
   "cell_type": "code",
   "execution_count": 96,
   "metadata": {},
   "outputs": [],
   "source": [
    "# append the bias dimension of ones\n",
    "X=np.hstack([X.toarray(), np.ones((X.shape[0], 1))])\n",
    "\n",
    "# Divide dataset into training set and validation set.\n",
    "X_train, X_test, y_train, y_test = train_test_split(X, y, test_size=0.2)\n",
    "y_train=y_train.reshape(-1,1)"
   ]
  },
  {
   "cell_type": "code",
   "execution_count": 97,
   "metadata": {},
   "outputs": [
    {
     "name": "stdout",
     "output_type": "stream",
     "text": [
      "0 time: lamda = 0.02736377716476823 learning_rate = 0.0014272321929596245 loss_test = 48.7416731893\n",
      "1 time: lamda = 0.023426051697101314 learning_rate = 2.715004222824955e-05 loss_test = 433.968775873\n",
      "2 time: lamda = 0.027317989755483996 learning_rate = 0.0019607403467466087 loss_test = 42.4144232466\n",
      "3 time: lamda = 0.004214319840184549 learning_rate = 5.2498799735219235e-05 loss_test = 347.07830937\n",
      "4 time: lamda = 0.4863836988915443 learning_rate = 0.0031502950790664214 loss_test = 74.4737185215\n",
      "5 time: lamda = 0.052140227753004004 learning_rate = 0.0072747740728735496 loss_test = 33.4842587816\n",
      "6 time: lamda = 0.010360999389475753 learning_rate = 0.00023456905037116181 loss_test = 91.1406037777\n",
      "7 time: lamda = 0.3646872151959999 learning_rate = 4.507569308075002e-05 loss_test = 369.149632416\n",
      "8 time: lamda = 0.0016466255128741777 learning_rate = 0.00015427257167394291 loss_test = 138.919687884\n",
      "9 time: lamda = 0.001208833763717085 learning_rate = 0.0005332259630829465 loss_test = 56.1551600815\n",
      "10 time: lamda = 0.03125374097935145 learning_rate = 0.000613996548988845 loss_test = 57.3657087147\n",
      "11 time: lamda = 0.012286128572901867 learning_rate = 4.624720910865164e-05 loss_test = 358.898496133\n",
      "12 time: lamda = 0.19470705712525596 learning_rate = 1.788244868334222e-05 loss_test = 503.262630655\n",
      "13 time: lamda = 0.0025062991054614504 learning_rate = 1.3809846798958636e-05 loss_test = 536.112802037\n",
      "14 time: lamda = 0.026427903386706073 learning_rate = 0.0003802730980511218 loss_test = 63.8376894365\n",
      "15 time: lamda = 0.2932064645433046 learning_rate = 3.9024891251173345e-05 loss_test = 402.051875229\n",
      "16 time: lamda = 0.02163582127892807 learning_rate = 3.8239364448514584e-05 loss_test = 394.028322425\n",
      "17 time: lamda = 0.3633442391903362 learning_rate = 0.00693694353155694 loss_test = 65.4766051968\n",
      "18 time: lamda = 0.02536113535954663 learning_rate = 0.0007753078826974348 loss_test = 56.1871800803\n",
      "19 time: lamda = 0.6812377621335132 learning_rate = 6.989392853873191e-05 loss_test = 284.811585955\n",
      "20 time: lamda = 0.0034109944951825188 learning_rate = 7.591364078240724e-05 loss_test = 269.307856261\n",
      "21 time: lamda = 0.005064214435422302 learning_rate = 0.0035404406429006344 loss_test = 32.8578025159\n",
      "22 time: lamda = 0.1779599910707322 learning_rate = 0.0014258338894205204 loss_test = 57.2003845276\n",
      "23 time: lamda = 0.020142246516265352 learning_rate = 7.560678318082589e-05 loss_test = 269.151012057\n",
      "24 time: lamda = 0.46905511709784714 learning_rate = 0.00012880923456952764 loss_test = 184.208257703\n",
      "25 time: lamda = 0.02541760354631737 learning_rate = 0.002067006205145834 loss_test = 42.3922697249\n",
      "26 time: lamda = 0.3470412127443482 learning_rate = 0.0014383077407530513 loss_test = 68.7624667375\n",
      "27 time: lamda = 0.016102854902176247 learning_rate = 0.0001511022124523844 loss_test = 140.9312162\n",
      "28 time: lamda = 0.034176771131942014 learning_rate = 7.302755674330114e-05 loss_test = 257.830019244\n",
      "29 time: lamda = 0.001410139766333411 learning_rate = 0.008505539888277751 loss_test = 24.9448993099\n",
      "30 time: lamda = 0.003807976110136481 learning_rate = 0.0010523998267658989 loss_test = 48.7660353556\n",
      "31 time: lamda = 0.056696598749387164 learning_rate = 0.005768281862955616 loss_test = 35.1174369115\n",
      "32 time: lamda = 0.03147235915304233 learning_rate = 0.0002123753252999095 loss_test = 101.142599282\n",
      "33 time: lamda = 0.4632333791217007 learning_rate = 0.00012972409387339734 loss_test = 181.645135202\n",
      "34 time: lamda = 0.004123269644574826 learning_rate = 0.0001684843396341173 loss_test = 131.437687829\n",
      "35 time: lamda = 0.003197815782373801 learning_rate = 0.00010956646115766949 loss_test = 208.322552842\n",
      "36 time: lamda = 0.006340647661170718 learning_rate = 0.005627632505977632 loss_test = 28.4532743403\n",
      "37 time: lamda = 0.015183659040845761 learning_rate = 0.00757302557378181 loss_test = 27.5035337671\n",
      "38 time: lamda = 0.9784786416779557 learning_rate = 6.129592348153509e-05 loss_test = 312.23233948\n",
      "39 time: lamda = 0.0022449312487064464 learning_rate = 6.603306847983606e-05 loss_test = 306.449112324\n",
      "40 time: lamda = 0.10557234454542588 learning_rate = 1.6098219526356183e-05 loss_test = 535.260981224\n",
      "41 time: lamda = 0.11374787529069089 learning_rate = 0.007434026037194061 loss_test = 41.4588620935\n",
      "42 time: lamda = 0.006275679169577342 learning_rate = 0.0029980455351064994 loss_test = 36.0518312343\n",
      "43 time: lamda = 0.37486668892995795 learning_rate = 0.0010878885959257087 loss_test = 72.0624407237\n",
      "44 time: lamda = 0.12637255154956997 learning_rate = 0.00015753227493686686 loss_test = 145.995347313\n",
      "45 time: lamda = 0.07381522424657068 learning_rate = 6.783360883786828e-05 loss_test = 313.892961379\n",
      "46 time: lamda = 0.020398677604020986 learning_rate = 0.00022821738101039103 loss_test = 96.1413044588\n",
      "47 time: lamda = 0.0010681922175051668 learning_rate = 3.437257758546974e-05 loss_test = 376.14140303\n",
      "48 time: lamda = 0.4589686131085892 learning_rate = 0.0019369619203785232 loss_test = 74.0130947144\n",
      "49 time: lamda = 0.6203802745996693 learning_rate = 0.008621627936280199 loss_test = 83.1044531236\n",
      "50 time: lamda = 0.019336405162388572 learning_rate = 0.0012614773193719967 loss_test = 48.5502149837\n",
      "51 time: lamda = 0.005000651373095 learning_rate = 1.1900493032204757e-05 loss_test = 508.391470622\n",
      "52 time: lamda = 0.02617133696713117 learning_rate = 0.002471503912314316 loss_test = 40.4118464426\n",
      "53 time: lamda = 0.1301500413718624 learning_rate = 3.142501772764884e-05 loss_test = 412.801728157\n",
      "54 time: lamda = 0.7438119469727549 learning_rate = 0.001069051594233638 loss_test = 91.8073104998\n",
      "55 time: lamda = 0.012625581403785925 learning_rate = 3.878567106610374e-05 loss_test = 357.3955692\n",
      "56 time: lamda = 0.4930902588351913 learning_rate = 0.0057228314187830615 loss_test = 74.8582614625\n",
      "57 time: lamda = 0.0010223223466138925 learning_rate = 0.0006616271405667666 loss_test = 53.5548309775\n",
      "58 time: lamda = 0.002286821457410093 learning_rate = 0.0011275684663727347 loss_test = 48.4195257334\n",
      "59 time: lamda = 0.0015607378983805464 learning_rate = 0.008256245512447464 loss_test = 24.817832418\n",
      "60 time: lamda = 0.8844271146749412 learning_rate = 0.00014924963389856025 loss_test = 174.554976605\n",
      "61 time: lamda = 0.07736286981251832 learning_rate = 0.00033553161877919273 loss_test = 70.2888582709\n",
      "62 time: lamda = 0.006379226067537136 learning_rate = 0.000283097522478049 loss_test = 74.8172130559\n",
      "63 time: lamda = 0.09340596059553546 learning_rate = 0.0029719272018421537 loss_test = 44.7055985657\n",
      "64 time: lamda = 0.005732771579209516 learning_rate = 3.232801349138816e-05 loss_test = 446.222840626\n",
      "65 time: lamda = 0.8189485234211427 learning_rate = 0.00019590763394103193 loss_test = 136.343566775\n",
      "66 time: lamda = 0.06517314718979815 learning_rate = 0.0012114186387549232 loss_test = 52.0344196793\n",
      "67 time: lamda = 0.2671585551763694 learning_rate = 0.0003725252739033365 loss_test = 76.6067418236\n",
      "68 time: lamda = 0.00688601594374237 learning_rate = 3.636551972913007e-05 loss_test = 401.718347549\n",
      "69 time: lamda = 0.07391586820579353 learning_rate = 0.0004134581027601374 loss_test = 64.2329668294\n",
      "70 time: lamda = 0.395901875406827 learning_rate = 1.9062232700150197e-05 loss_test = 504.805231211\n",
      "71 time: lamda = 0.08095498549295832 learning_rate = 0.0003861873655313144 loss_test = 67.1361630305\n",
      "72 time: lamda = 0.01008796884353642 learning_rate = 0.0014587516209283542 loss_test = 46.8824619146\n",
      "73 time: lamda = 0.0029579005125179745 learning_rate = 0.00024290456245687218 loss_test = 87.695053349\n",
      "74 time: lamda = 0.018058304366666514 learning_rate = 0.003059262477301107 loss_test = 36.4279878362\n",
      "75 time: lamda = 0.05295939556374599 learning_rate = 0.0004785286950752445 loss_test = 62.0050482371\n",
      "76 time: lamda = 0.024128578816758697 learning_rate = 0.0008905329675561429 loss_test = 54.5071898518\n",
      "77 time: lamda = 0.21922956564851953 learning_rate = 0.00019967045202637541 loss_test = 110.857313689\n",
      "78 time: lamda = 0.2963299690133249 learning_rate = 0.0003475863545192027 loss_test = 78.502935346\n",
      "79 time: lamda = 0.0038211445333400543 learning_rate = 0.00036132714950963736 loss_test = 64.5231090836\n",
      "80 time: lamda = 0.015029065008961449 learning_rate = 0.0023910981119490676 loss_test = 39.4557815955\n",
      "81 time: lamda = 0.003926688956831775 learning_rate = 0.00036623180963036455 loss_test = 62.9540830556\n"
     ]
    },
    {
     "name": "stdout",
     "output_type": "stream",
     "text": [
      "82 time: lamda = 0.2909048865570023 learning_rate = 0.00017655211455404332 loss_test = 128.392850505\n",
      "83 time: lamda = 0.0886788829291177 learning_rate = 0.0006201290326507342 loss_test = 57.9445317223\n",
      "84 time: lamda = 0.0027404043722266173 learning_rate = 0.001237577437517428 loss_test = 48.4520647741\n",
      "85 time: lamda = 0.02012471377316046 learning_rate = 0.007283286939899727 loss_test = 28.8475158557\n",
      "86 time: lamda = 0.29346336692905767 learning_rate = 0.00041399978406471817 loss_test = 76.3841499426\n",
      "87 time: lamda = 0.0042544974783674154 learning_rate = 5.924117824310908e-05 loss_test = 326.999215207\n",
      "88 time: lamda = 0.006915521098766501 learning_rate = 3.1348156303935654e-05 loss_test = 427.318678334\n",
      "89 time: lamda = 0.5262450124614445 learning_rate = 0.0004714363555063755 loss_test = 85.3417658837\n",
      "90 time: lamda = 0.021194107300955504 learning_rate = 5.7320291041729643e-05 loss_test = 315.957675385\n",
      "91 time: lamda = 0.8284839168680287 learning_rate = 1.1408861070152053e-05 loss_test = 550.74381685\n",
      "92 time: lamda = 0.024174894324198684 learning_rate = 2.5501538193699898e-05 loss_test = 425.194157679\n",
      "93 time: lamda = 0.001759050066184821 learning_rate = 2.997602383352937e-05 loss_test = 421.599898064\n",
      "94 time: lamda = 0.001690415742669567 learning_rate = 0.0014659161480252724 loss_test = 44.7587118152\n",
      "95 time: lamda = 0.009200288909252376 learning_rate = 3.640373975482915e-05 loss_test = 428.004251558\n",
      "96 time: lamda = 0.5668549297793961 learning_rate = 8.564647526591943e-05 loss_test = 265.131754704\n",
      "97 time: lamda = 0.0034669816069209116 learning_rate = 8.273962827801323e-05 loss_test = 252.437960793\n",
      "98 time: lamda = 0.0033569810746520872 learning_rate = 0.0009665222601576421 loss_test = 51.0674676059\n",
      "99 time: lamda = 0.0055859880168089415 learning_rate = 0.00031305275535194416 loss_test = 69.3777170111\n",
      "24.817832418\n"
     ]
    }
   ],
   "source": [
    "# find the better lamda and learning_rate to minimize the L(test)\n",
    "mintestloss=999\n",
    "for k in range(100):\n",
    "    lamda = 10**np.random.uniform(-3, 0)\n",
    "    learning_rate = 10**np.random.uniform(-5, -2)\n",
    "    # Initialize linear model parameters. \n",
    "    # w: A numpy array of shape (1, D) containing weights.\n",
    "    w=np.random.random((1,14))\n",
    "    loss_trainhistory = []\n",
    "    loss_testhistory=[]\n",
    "    for i in range(iteration):\n",
    "        #  Choose loss function and derivation  L=1/n ∑_(i=1)^n▒〖(y_i-(w^T x_i ))^2+λ/2 ‖w‖_2^2 〗\n",
    "\n",
    "        #  Get the loss L_train under the trainin set and L_validation by validating under validation set.\n",
    "        loss_train=lamda/2*(np.linalg.norm(w,2)**2)+np.mean((y_train.reshape((-1,1))-X_train.dot(w.T))**2)\n",
    "        loss_trainhistory.append(loss_train)\n",
    "        loss_test=lamda/2*(np.linalg.norm(w,2)**2)+np.mean((y_test.reshape((-1,1))-X_test.dot(w.T))**2)\n",
    "        loss_testhistory.append(loss_test)\n",
    "        #  Calculate gradient G toward loss function from all samples.\n",
    "        dw=-2*np.mean(X_train*(y_train-X_train.dot(w.T)),axis=0,keepdims = True)+lamda*w\n",
    "        # Update model: W_t=W_(t-1)+ηD .\n",
    "        w=w-learning_rate*dw\n",
    "    if loss_test<mintestloss:\n",
    "        mintestloss=loss_test\n",
    "        loss_mintrainhistory = loss_trainhistory\n",
    "        loss_mintesthistory = loss_testhistory\n",
    "    print(k,'time:','lamda =',lamda,'learning_rate =',learning_rate,'loss_test =',loss_test)\n",
    "print(mintestloss)"
   ]
  },
  {
   "cell_type": "code",
   "execution_count": 98,
   "metadata": {
    "scrolled": true
   },
   "outputs": [
    {
     "data": {
      "image/png": "[encoded data removed]",
      "text/plain": [
       "<matplotlib.figure.Figure at 0x26efa4176a0>"
      ]
     },
     "metadata": {},
     "output_type": "display_data"
    }
   ],
   "source": [
    "#  drawing graph of L_train as well as L_validation with the number of iterations.\n",
    "plt.plot(loss_mintrainhistory,'blue',label='Train')\n",
    "plt.plot(loss_mintesthistory,'black',label='Test')\n",
    "plt.xlabel('Iteration times')\n",
    "plt.ylabel('Loss value')\n",
    "plt.legend()\n",
    "plt.show()"
   ]
  },
  {
   "cell_type": "code",
   "execution_count": 99,
   "metadata": {},
   "outputs": [
    {
     "name": "stdout",
     "output_type": "stream",
     "text": [
      "25.0947202559\n",
      "24.817832418\n"
     ]
    }
   ],
   "source": [
    "print(loss_mintrainhistory[-1])\n",
    "print(loss_mintesthistory[-1])"
   ]
  },
  {
   "cell_type": "code",
   "execution_count": null,
   "metadata": {},
   "outputs": [],
   "source": []
  }
 ],
 "metadata": {
  "kernelspec": {
   "display_name": "Python 3",
   "language": "python",
   "name": "python3"
  },
  "language_info": {
   "codemirror_mode": {
    "name": "ipython",
    "version": 3
   },
   "file_extension": ".py",
   "mimetype": "text/x-python",
   "name": "python",
   "nbconvert_exporter": "python",
   "pygments_lexer": "ipython3",
   "version": "3.6.2"
  }
 },
 "nbformat": 4,
 "nbformat_minor": 2
}
